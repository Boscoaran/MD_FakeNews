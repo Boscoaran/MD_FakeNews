{
 "cells": [
  {
   "cell_type": "code",
   "execution_count": 29,
   "metadata": {},
   "outputs": [],
   "source": [
    "import pandas as pd\n",
    "\n",
    "df = pd.read_csv('test.csv')"
   ]
  },
  {
   "cell_type": "code",
   "execution_count": 25,
   "metadata": {},
   "outputs": [],
   "source": [
    "import string\n",
    "from nltk.stem import WordNetLemmatizer, PorterStemmer\n",
    "from nltk.corpus import stopwords\n",
    "\n",
    "def preprocesar(c):\n",
    "\n",
    "    wnl = WordNetLemmatizer()\n",
    "    ps = PorterStemmer()\n",
    "    for i in range(len(c)):\n",
    "        s = str(c[i])\n",
    "        s = s.lower()\n",
    "        s = s.translate(str.maketrans('', '', string.punctuation))\n",
    "        s = s.split()\n",
    "        stop_words=set(stopwords.words('english'))\n",
    "        filtered_sentence = [w for w in s if not w in stop_words]\n",
    "        filtered_sentence = []\n",
    "        for w in s:\n",
    "            if w not in stop_words and len(w)>1:\n",
    "                w = wnl.lemmatize(w)\n",
    "                w = ps.stem(w)\n",
    "                filtered_sentence.append(w)\n",
    "        s = filtered_sentence\n",
    "        c[i] = s\n",
    "    return(c)    \n",
    "    "
   ]
  },
  {
   "cell_type": "code",
   "execution_count": 30,
   "metadata": {},
   "outputs": [
    {
     "name": "stderr",
     "output_type": "stream",
     "text": [
      "/tmp/ipykernel_15964/4127489850.py:23: SettingWithCopyWarning: \n",
      "A value is trying to be set on a copy of a slice from a DataFrame\n",
      "\n",
      "See the caveats in the documentation: https://pandas.pydata.org/pandas-docs/stable/user_guide/indexing.html#returning-a-view-versus-a-copy\n",
      "  c[i] = s\n"
     ]
    }
   ],
   "source": [
    "df['title'] = preprocesar(df['title'])"
   ]
  },
  {
   "cell_type": "code",
   "execution_count": 27,
   "metadata": {},
   "outputs": [
    {
     "name": "stderr",
     "output_type": "stream",
     "text": [
      "/tmp/ipykernel_15964/4127489850.py:23: SettingWithCopyWarning: \n",
      "A value is trying to be set on a copy of a slice from a DataFrame\n",
      "\n",
      "See the caveats in the documentation: https://pandas.pydata.org/pandas-docs/stable/user_guide/indexing.html#returning-a-view-versus-a-copy\n",
      "  c[i] = s\n"
     ]
    }
   ],
   "source": [
    "df['text'] = preprocesar(df['text'])"
   ]
  },
  {
   "cell_type": "code",
   "execution_count": 28,
   "metadata": {},
   "outputs": [],
   "source": [
    "df.to_csv('test_p.csv', index=False)"
   ]
  }
 ],
 "metadata": {
  "kernelspec": {
   "display_name": "Python 3.9.12",
   "language": "python",
   "name": "python3"
  },
  "language_info": {
   "codemirror_mode": {
    "name": "ipython",
    "version": 3
   },
   "file_extension": ".py",
   "mimetype": "text/x-python",
   "name": "python",
   "nbconvert_exporter": "python",
   "pygments_lexer": "ipython3",
   "version": "3.9.12"
  },
  "orig_nbformat": 4,
  "vscode": {
   "interpreter": {
    "hash": "8177e54e2642460115b7fac856e55878a27f2d5462fcf040b568be5f735ea7f2"
   }
  }
 },
 "nbformat": 4,
 "nbformat_minor": 2
}
